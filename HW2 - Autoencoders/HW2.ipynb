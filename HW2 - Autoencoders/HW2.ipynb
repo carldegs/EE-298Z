{
  "nbformat": 4,
  "nbformat_minor": 0,
  "metadata": {
    "colab": {
      "name": "HW2:  Autoencoders",
      "provenance": [],
      "collapsed_sections": []
    },
    "kernelspec": {
      "name": "python3",
      "display_name": "Python 3"
    }
  },
  "cells": [
    {
      "cell_type": "markdown",
      "metadata": {
        "id": "jGVI2F2-QFDE",
        "colab_type": "text"
      },
      "source": [
        "# HW 2: Autoencoders\n",
        "Carl Justin de Guia\n",
        "2011-06521\n",
        "\n",
        "## Model used\n",
        "For the encoder, we use an input layer,2 convolutional layers (a 32-filter and 64-filter layer) that will return a (7,7,64) data which will then be flattened and ran through a dense layer to create a 32-dimensional latent vector. \n",
        "\n",
        "For the decoder, we use the same parameters for the 2 Conv2DTranspose(), and a 1-filter Conv2DTranspose layer with a sigmoid activation function that returns a \"denoised\" (28, 28, 1) image.\n",
        "\n",
        "## Parameters\n",
        "### Epoch\n",
        "As seen from the model loss chart below, the loss is still going down at 10 epochs, and stopping at an earlier time will not return the best output. But when training at 15 epochs, patterns of overfitting are seen as show in the chart below, and the minimal improvement in the model benchmarks is not worth the longer training time.\n",
        "\n",
        "*10 epochs*\n",
        "\n",
        "![10 epoch](https://github.com/carldegs/EE-298Z/blob/master/HW2%20-%20Autoencoders/loss-base.png?raw=true)\n",
        "\n",
        "*15 epochs*\n",
        "\n",
        "![15 epoch](https://github.com/carldegs/EE-298Z/blob/master/HW2%20-%20Autoencoders/loss-15-epoch.png?raw=true)\n",
        "\n",
        "### Kernel Size\n",
        "The kernel size is also tested. Comparing a 2x2, a 3x3 and a 5x5 kernel results in the following benchmarks\n",
        "\n",
        "| Kernel Size | Test Loss | Classifier Score | SSIM Score |\n",
        "|-------------|-----------|------------------|------------|\n",
        "| 2           | 0.01944   | 92.18            | 87.29      |\n",
        "| 3           | 0.01670   | 93.76            | 89.37      |\n",
        "| 5           | 0.01511   | 94.66            | 90.38      |\n",
        "\n",
        "Even though the 5x5 shows the best results, it takes a far longer time to train. That's why I used a 3x3 kernel for my final model.\n",
        "\n",
        "### Latent Dimensions\n",
        "In theory, a larger latent vector will result in a more accurate denoising model but a very large latent vector will cause the latent representation to be overcomplete. With this is mind, I tested using an 8-dim, 16-dim and 32-dim in the model. These are their benchmark results:\n",
        "\n",
        "| Latent Dimensions | Test Loss | Classifier Score | SSIM Score |\n",
        "|-------------------|-----------|------------------|------------|\n",
        "| 8                 | 0.02389   | 88.18            | 81.66      |\n",
        "| 16                | 0.01670   | 93.76            | 89.37      |\n",
        "| 32                | 0.01216   | 96.16            | 94.13      |\n",
        "\n",
        "Since the change between 16 and 32 dimensions are significant, I used 32 ;latent dimensions in my model.\n",
        "\n",
        "### Conv Layers and Filters\n",
        "I tried 2 setups for the convolutional layers. Both are a 2-layer network but the first one has [16, 32] filters, and the other one has [32, 64] filters.\n",
        "\n",
        "| Filters per layer | Test Loss | Classifier Score | SSIM Score |\n",
        "|-------------------|-----------|------------------|------------|\n",
        "| 16, 32            | 0.02639   | 86.53            | 79.21      |\n",
        "| 32, 64            | 0.01670   | 93.76            | 89.37      |\n",
        "\n",
        "With this, the final model uses 32 and 64 layers for the model.\n",
        "\n",
        "### Activation Function\n",
        "Since our input are positive numbers from [0, 1], ReLU is ideal for our use case. But I also tested using tanh, and it returned a worse benchmark than ReLU.\n",
        "\n",
        "| Activation | Test Loss | Classifier Score | SSIM Score |\n",
        "|------------|-----------|------------------|------------|\n",
        "| tanh       | 0.00000   | 00.00            | 00.00      |\n",
        "| ReLU       | 0.01670   | 93.76            | 89.37      |\n"
      ]
    },
    {
      "cell_type": "code",
      "metadata": {
        "id": "flZwvv61TGXo",
        "colab_type": "code",
        "colab": {
          "base_uri": "https://localhost:8080/",
          "height": 228
        },
        "outputId": "e9a72992-4bc9-4ae8-82e0-926298dc0841"
      },
      "source": [
        "# Data generation\n",
        "from keras.layers import Dense, Input\n",
        "from keras.layers import Conv2D, Flatten\n",
        "from keras.layers import Reshape, Conv2DTranspose\n",
        "from keras.models import Model\n",
        "from keras.datasets import mnist\n",
        "from keras import backend as K\n",
        "from hw2.transforms import corrupt_mnist_copy\n",
        "import matplotlib.pyplot as plt\n",
        "import numpy as np\n",
        "from PIL import Image\n",
        "\n",
        "(x_train, y_train), (x_test, y_test) = mnist.load_data()\n",
        "\n",
        "x_train_corrupted = corrupt_mnist_copy(x_train)\n",
        "x_test_corrupted = corrupt_mnist_copy(x_test)\n",
        "\n",
        "# Reshape to (28, 28, 1)\n",
        "image_size = x_train.shape[1]\n",
        "x_train = np.reshape(x_train, [-1, image_size, image_size, 1])\n",
        "x_train_corrupted = np.reshape(x_train_corrupted, [-1, image_size, image_size, 1])\n",
        "x_test = np.reshape(x_test, [-1, image_size, image_size, 1])\n",
        "x_test_corrupted = np.reshape(x_test_corrupted, [-1, image_size, image_size, 1])\n",
        "\n",
        "# Scale to [0, 1]\n",
        "x_train = x_train.astype(K.floatx()) / 255.\n",
        "x_train_corrupted = x_train_corrupted.astype(K.floatx()) / 255.\n",
        "x_test = x_test.astype(K.floatx()) / 255.\n",
        "x_test_corrupted = x_test_corrupted.astype(K.floatx()) / 255.\n",
        "\n",
        "# Show sample image\n",
        "f, axarr = plt.subplots(2, 5)\n",
        "samples = [0, 10, 20, 30, 40];\n",
        "for idx, sample in enumerate(samples):\n",
        "    axarr[0,idx].imshow(x_train[sample][:,:,0], cmap='gray')\n",
        "    axarr[1,idx].imshow(x_train_corrupted[sample][:,:,0], cmap='gray')"
      ],
      "execution_count": 112,
      "outputs": [
        {
          "output_type": "display_data",
          "data": {
            "image/png": "[encoded data removed]",
            "text/plain": [
              "<Figure size 432x288 with 10 Axes>"
            ]
          },
          "metadata": {
            "tags": []
          }
        }
      ]
    },
    {
      "cell_type": "code",
      "metadata": {
        "id": "3Ya1vKyQaeET",
        "colab_type": "code",
        "colab": {
          "base_uri": "https://localhost:8080/",
          "height": 1000
        },
        "outputId": "49621843-9d53-46d2-89bc-7376675a26c1"
      },
      "source": [
        "# Create and train autoencoder\n",
        "\n",
        "# Setup network parameters\n",
        "input_shape = (image_size, image_size, 1)\n",
        "batch_size = 32\n",
        "epochs = 10\n",
        "kernel_size = 5 # TODO: Test kernel sizes [2, 3, 5]\n",
        "latent_dim = 32 # TODO: Test different dimensions. [4, 8, 16, 32]\n",
        "layer_filters = [32, 64] # TODO: Test differnt number of CNN layers [2, 3, 4] and filters per layer [32, 64, 128]\n",
        "strides = 2\n",
        "activation = 'relu'\n",
        "padding = 'same'\n",
        "\n",
        "# Build the encoder model\n",
        "inputs = Input(shape=input_shape, name='encoder_input')\n",
        "x = inputs\n",
        "\n",
        "# create the CNN layers\n",
        "for filters in layer_filters:\n",
        "    x = Conv2D(filters=filters,\n",
        "               kernel_size=kernel_size,\n",
        "               strides=strides, # TODO; try other strides\n",
        "               activation=activation, # TODO: try other activation fnx\n",
        "               padding=padding)(x)\n",
        "\n",
        "shape = K.int_shape(x)\n",
        "\n",
        "# generate the latent vector\n",
        "x = Flatten()(x)\n",
        "latent = Dense(latent_dim, name='latent_vector')(x)\n",
        "\n",
        "# Instantiate encoder model\n",
        "encoder = Model(inputs, latent, name='encoder')\n",
        "encoder.summary()\n",
        "\n",
        "# Build decoder model\n",
        "latent_inputs = Input(shape=(latent_dim,), name='decoder_input')\n",
        "x = Dense(shape[1] * shape[2] * shape[3])(latent_inputs)\n",
        "x = Reshape((shape[1], shape[2], shape[3]))(x)\n",
        "\n",
        "for filters in layer_filters[::-1]:\n",
        "    x = Conv2DTranspose(filters=filters,\n",
        "                        kernel_size=kernel_size,\n",
        "                        strides=strides,\n",
        "                        activation=activation,\n",
        "                        padding=padding)(x)\n",
        "\n",
        "outputs = Conv2DTranspose(filters=1,\n",
        "                          kernel_size=kernel_size,\n",
        "                          padding='same',\n",
        "                          activation='sigmoid',\n",
        "                          name='decoder_output')(x)\n",
        "\n",
        "# Instantiate decoder model\n",
        "decoder = Model(latent_inputs, outputs, name='decoder')\n",
        "decoder.summary()\n",
        "\n",
        "# Instantiate autoencoder model\n",
        "autoencoder = Model(inputs, decoder(encoder(inputs)), name='autoencoder')\n",
        "autoencoder.summary()\n",
        "\n",
        "# Compile and train\n",
        "autoencoder.compile(loss='mse', optimizer='adam')\n",
        "history = autoencoder.fit(x_train_corrupted,\n",
        "                x_train,\n",
        "                validation_data=(x_test_corrupted, x_test),\n",
        "                epochs=epochs,\n",
        "                batch_size=batch_size,\n",
        "                verbose=0)\n",
        "\n",
        "# Summarize history for loss\n",
        "plt.plot(history.history['loss'])\n",
        "plt.plot(history.history['val_loss'])\n",
        "plt.title('model loss')\n",
        "plt.ylabel('loss')\n",
        "plt.xlabel('epoch')\n",
        "plt.legend(['train', 'test'], loc='upper left')\n",
        "plt.show()"
      ],
      "execution_count": 113,
      "outputs": [
        {
          "output_type": "stream",
          "text": [
            "Model: \"encoder\"\n",
            "_________________________________________________________________\n",
            "Layer (type)                 Output Shape              Param #   \n",
            "=================================================================\n",
            "encoder_input (InputLayer)   (None, 28, 28, 1)         0         \n",
            "_________________________________________________________________\n",
            "conv2d_52 (Conv2D)           (None, 14, 14, 32)        832       \n",
            "_________________________________________________________________\n",
            "conv2d_53 (Conv2D)           (None, 7, 7, 64)          51264     \n",
            "_________________________________________________________________\n",
            "flatten_21 (Flatten)         (None, 3136)              0         \n",
            "_________________________________________________________________\n",
            "latent_vector (Dense)        (None, 32)                100384    \n",
            "=================================================================\n",
            "Total params: 152,480\n",
            "Trainable params: 152,480\n",
            "Non-trainable params: 0\n",
            "_________________________________________________________________\n",
            "Model: \"decoder\"\n",
            "_________________________________________________________________\n",
            "Layer (type)                 Output Shape              Param #   \n",
            "=================================================================\n",
            "decoder_input (InputLayer)   (None, 32)                0         \n",
            "_________________________________________________________________\n",
            "dense_22 (Dense)             (None, 3136)              103488    \n",
            "_________________________________________________________________\n",
            "reshape_18 (Reshape)         (None, 7, 7, 64)          0         \n",
            "_________________________________________________________________\n",
            "conv2d_transpose_31 (Conv2DT (None, 14, 14, 64)        102464    \n",
            "_________________________________________________________________\n",
            "conv2d_transpose_32 (Conv2DT (None, 28, 28, 32)        51232     \n",
            "_________________________________________________________________\n",
            "decoder_output (Conv2DTransp (None, 28, 28, 1)         801       \n",
            "=================================================================\n",
            "Total params: 257,985\n",
            "Trainable params: 257,985\n",
            "Non-trainable params: 0\n",
            "_________________________________________________________________\n",
            "Model: \"autoencoder\"\n",
            "_________________________________________________________________\n",
            "Layer (type)                 Output Shape              Param #   \n",
            "=================================================================\n",
            "encoder_input (InputLayer)   (None, 28, 28, 1)         0         \n",
            "_________________________________________________________________\n",
            "encoder (Model)              (None, 32)                152480    \n",
            "_________________________________________________________________\n",
            "decoder (Model)              (None, 28, 28, 1)         257985    \n",
            "=================================================================\n",
            "Total params: 410,465\n",
            "Trainable params: 410,465\n",
            "Non-trainable params: 0\n",
            "_________________________________________________________________\n"
          ],
          "name": "stdout"
        },
        {
          "output_type": "display_data",
          "data": {
            "image/png": "[encoded data removed]",
            "text/plain": [
              "<Figure size 432x288 with 1 Axes>"
            ]
          },
          "metadata": {
            "tags": []
          }
        }
      ]
    },
    {
      "cell_type": "code",
      "metadata": {
        "id": "9rX8rD_OsHTr",
        "colab_type": "code",
        "colab": {
          "base_uri": "https://localhost:8080/",
          "height": 297
        },
        "outputId": "79f4b69b-f795-4271-b6df-8add8895678d"
      },
      "source": [
        "# Decode corrupted data\n",
        "x_test_decoded = autoencoder.predict(x_test_corrupted)\n",
        "\n",
        "f, axarr = plt.subplots(3, 5)\n",
        "samples = [0, 10, 20, 30, 40];\n",
        "for idx, sample in enumerate(samples):\n",
        "    axarr[0,idx].imshow(x_test[sample][:,:,0], cmap='gray')\n",
        "    axarr[1,idx].imshow(x_test_corrupted[sample][:,:,0], cmap='gray')\n",
        "    axarr[2,idx].imshow(x_test_decoded[sample][:,:,0], cmap='gray')\n",
        "    \n",
        "print(x_test_decoded[0].shape)\n",
        "print('Row 1: Original image, Row 2: Corrupted image, Row 3: Decoded image')"
      ],
      "execution_count": 118,
      "outputs": [
        {
          "output_type": "stream",
          "text": [
            "(28, 28, 1)\n",
            "Row 1: Original image, Row 2: Corrupted image, Row 3: Decoded image\n"
          ],
          "name": "stdout"
        },
        {
          "output_type": "display_data",
          "data": {
            "image/png": "[encoded data removed]",
            "text/plain": [
              "<Figure size 432x288 with 15 Axes>"
            ]
          },
          "metadata": {
            "tags": []
          }
        }
      ]
    },
    {
      "cell_type": "code",
      "metadata": {
        "id": "oMeFuucbjXln",
        "colab_type": "code",
        "colab": {
          "base_uri": "https://localhost:8080/",
          "height": 51
        },
        "outputId": "23f58a34-c4ea-437f-f370-ea4e40d2efab"
      },
      "source": [
        "# Benchmarking\n",
        "from hw2.benchmark_keras_test import test_model\n",
        "(x_train_2, y_train_2), (x_test_2, y_test_2) = mnist.load_data()\n",
        "x_test_2 = x_test_2.astype(K.floatx()) / 255.\n",
        "test_model(autoencoder, x_test_2, y_test_2, batch_size=100)"
      ],
      "execution_count": 116,
      "outputs": [
        {
          "output_type": "stream",
          "text": [
            "Classifier score: 96.08\n",
            "SSIM score: 94.50\n"
          ],
          "name": "stdout"
        }
      ]
    }
  ]
}